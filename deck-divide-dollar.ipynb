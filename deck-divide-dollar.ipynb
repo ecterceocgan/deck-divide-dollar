{
 "cells": [
  {
   "cell_type": "markdown",
   "metadata": {},
   "source": [
    "# Deck-based divide-the-dollar"
   ]
  },
  {
   "cell_type": "markdown",
   "metadata": {},
   "source": [
    "A deck-based game is a mathematical game that has been transformed into a card game in which potential moves are limited to a set of cards drawn from a fixed deck <a name=\"a1\"></a>[[1](#AshlockSchonfeldCardGames)]. Each player must choose their strategy during each turn by selecting a card from their hand. Once chosen, the card is removed and cannot be played again.\n",
    "\n",
    "We will examine a deck-based version of the divide-the-dollar game. Divide-the-dollar is typically a simultaneous play (generalized Nash) game in which two players each make a bid to divide a dollar. If the sum of the bids is less than one, then each player gets to keep the amount of their bid <a name=\"a2\"></a>[[2](#BramsTaylor)]. We will look at an iterated, two-player, turn- and deck-based version of this in which we have multiple rounds of players taking turns playing the first card."
   ]
  },
  {
   "cell_type": "code",
   "execution_count": null,
   "metadata": {
    "collapsed": true
   },
   "outputs": [],
   "source": [
    "from __future__ import division\n",
    "import numpy as np\n",
    "import math"
   ]
  },
  {
   "cell_type": "markdown",
   "metadata": {},
   "source": [
    "## Game parameters"
   ]
  },
  {
   "cell_type": "markdown",
   "metadata": {},
   "source": [
    "First, we must specify the game itself. This includes defining the specific fractions used as cards as well as the corresponding number of these unique cards that we wish to include in a deck."
   ]
  },
  {
   "cell_type": "code",
   "execution_count": null,
   "metadata": {
    "collapsed": true
   },
   "outputs": [],
   "source": [
    "cards = [0.25, 0.50, 0.75]\n",
    "num_unique_cards = [16, 28, 16]\n",
    "num_cards = len(cards)\n",
    "deck_size = sum(num_unique_cards)"
   ]
  },
  {
   "cell_type": "markdown",
   "metadata": {},
   "source": [
    "Following this we need to define the number of players, the number of cards each player holds in their hand, as well as the number of rounds which constitutes a game. Here, players will play cards until the deck is depleted and they can no longer maintain the specified hand size."
   ]
  },
  {
   "cell_type": "code",
   "execution_count": null,
   "metadata": {
    "collapsed": true
   },
   "outputs": [],
   "source": [
    "num_players = 2\n",
    "hand_size = 5\n",
    "num_rounds = 1+(deck_size-(num_players*hand_size))//num_players"
   ]
  },
  {
   "cell_type": "markdown",
   "metadata": {},
   "source": [
    "---\n",
    "## References\n",
    "\n",
    "<a name=\"AshlockSchonfeldCardGames\">[1]</a> D. Ashlock and J. Schonfeld. Tools for deriving card games from mathematical games. *Game & Puzzle Design*, 1(2):1–3, 2015. [↩](#a1)\n",
    "\n",
    "<a name=\"BramsTaylor\">[2]</a> S. J. Brams and A. D. Taylor. Divide the dollar: three solutions and extensions. *Theory and Decision*, 37:211–231, 1994. [↩](#a2)"
   ]
  }
 ],
 "metadata": {
  "kernelspec": {
   "display_name": "Python 2",
   "language": "python",
   "name": "python2"
  },
  "language_info": {
   "codemirror_mode": {
    "name": "ipython",
    "version": 2
   },
   "file_extension": ".py",
   "mimetype": "text/x-python",
   "name": "python",
   "nbconvert_exporter": "python",
   "pygments_lexer": "ipython2",
   "version": "2.7.13"
  }
 },
 "nbformat": 4,
 "nbformat_minor": 2
}
